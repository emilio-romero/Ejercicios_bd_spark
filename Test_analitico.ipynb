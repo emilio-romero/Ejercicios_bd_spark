{
 "cells": [
  {
   "cell_type": "markdown",
   "metadata": {},
   "source": [
    "# Test Analítico"
   ]
  },
  {
   "cell_type": "markdown",
   "metadata": {},
   "source": [
    "*League of Legends* es un juego multijugador en línea en el que se enfrentan dos equipos (rojo y azul) de cinco jugadores cada uno. El propósito es destruir el Nexo enemigo, para lo cual es necesario destruir previamente varias estructuras. El mapa es el siguiente: \n",
    "\n",
    "![](https://www.researchgate.net/profile/Patrick_Shih/publication/319839481/figure/fig1/AS:539281729228800@1505586191613/A-Map-of-the-League-of-Legends-game-play-in-the-classic-mode.png)"
   ]
  },
  {
   "cell_type": "markdown",
   "metadata": {},
   "source": [
    "Cada jugador asume uno de los siguientes cinco roles:\n",
    "\n",
    "* Top: Jugador que toma el carril superior (Top Lane).\n",
    "* Jungle: Jugador que circula por la jungla (Jungle) y ayuda a los jugadores en los carriles principales.\n",
    "* Mid: Jugador que toma el carril central (Mid Lane).\n",
    "* ADC: Jugador que toma el carril inferior (Bottom Lane).\n",
    "* Support: Jugador que acompaña al ADC en el carril inferior (Bottom Lane)."
   ]
  },
  {
   "cell_type": "markdown",
   "metadata": {},
   "source": [
    "# Datos\n",
    "\n",
    "Los datos se pueden descargar [aquí](https://my.syncplicity.com/share/wei4ety7fy6lwmf/leagueoflegends) y están conformados por varios archivos con información sobre diferentes aspectos del juego. Cada uno se describe en la sección correspondiente."
   ]
  },
  {
   "cell_type": "markdown",
   "metadata": {},
   "source": [
    "# Match info\n",
    "\n",
    "La base contiene datos de partidas profesionales de 2015 a 2018, el archivo **matchinfo.csv** contiene los datos generales de cada partida. A continuación se presenta una descripción de los campos contenidos en el archivo:\n",
    "\n",
    "* **League**: Región a la que pertenecen los equipos.\n",
    "* **Year**: Año en que se llevó a cabo la partida.\n",
    "* **Season**: Temporada (primavera o verano).\n",
    "* **Type**: Tipo de partida. \n",
    "* **{blue,red}TeamTag**: Nombre del equipo.\n",
    "* **{b,r}Result**: Indicador del ganador (1 si ganó, 0 si perdió).\n",
    "* **gamelength**: Duración del juego en minutos.\n",
    "* **{blue,red}(carril)**: Nombre del jugador en el rol *carril*.\n",
    "* **{blue,red}(carrill)Champ**: Nombre del personaje que utilizó el jugador en el rol *carril*.\n",
    "* **Address**: Identificador único de la partida."
   ]
  },
  {
   "cell_type": "markdown",
   "metadata": {},
   "source": [
    "# Atención\n",
    "Las siguientes condiciones deben ser tomadas en cuenta para **todos** los ejercicios:\n",
    "\n",
    "* **Considerar solo las regiones (*League*) NALCS, EULCS y LCK** (correspondientes a Norteamérica, Europa y Corea del Sur).\n",
    "* **Considerar solo las partidas de temporada (Season)**"
   ]
  },
  {
   "cell_type": "markdown",
   "metadata": {},
   "source": [
    "# Bans\n",
    "\n",
    "Antes de elegir personajes, cada equipo *banea* algunos. Esto permite evitar que el equipo enemigo utilice personajes con los que son muy buenos o que son fuertes en el estado actual del juego. Inicialmente se realizaban tres *bans*, posteriormente este número se incrementó a cinco.  \n",
    "La información sobre los bans se encuentra en el archivo **bans.csv**, el cual contiene los siguientes campos: \n",
    "\n",
    "* **Address**: Identificador único de la partida.\n",
    "* **Team**: Identificador del equipo (rojo o azul).\n",
    "* **ban_(k)**: k-ésimo personaje *baneado*.\n"
   ]
  },
  {
   "cell_type": "markdown",
   "metadata": {},
   "source": [
    "## Ejercicio 1. \n",
    "\n",
    "### Obtener los cinco personajes más frecuentemente *baneados* por *Year*, *Season* y *League*.\n",
    "\n",
    "El resultado debe ser similar a lo siguiente:\n",
    "\n",
    "| Year | Season | League | Top 5 bans |\n",
    "|------|--------|--------| ---------- |\n",
    "| 2015 | Spring | EULCS  | [(Zed, 49), (Kassadin, 39), (Cassiopeia, 34), (RekSai, 33), (Nidalee, 30)] |"
   ]
  },
  {
   "cell_type": "code",
   "execution_count": null,
   "metadata": {},
   "outputs": [],
   "source": []
  },
  {
   "cell_type": "markdown",
   "metadata": {},
   "source": [
    "\n",
    "## Ejercicio 2.\n",
    "### Obtener los tres personajes más frecuentemente *baneados contra* los equipos **TSM**, **FNC** y **SKT** por *Year*, *Season* y *TeamTag*.\n",
    "\n",
    "El resultado debe ser similar a lo siguiente:  \n",
    "\n",
    "| Year | Season | TeamTag | Top 3 bans |\n",
    "|------|--------|-------- | ---------- |\n",
    "| 2015 | Spring | FNC     | [(Zed, 10), (Lissandra, 9), (Rengar, 6)] |"
   ]
  },
  {
   "cell_type": "code",
   "execution_count": null,
   "metadata": {},
   "outputs": [],
   "source": []
  },
  {
   "cell_type": "markdown",
   "metadata": {},
   "source": [
    "# Gold\n",
    "Conforme avanza la partida los jugadores ganan oro matando súbitos enemigos, así como jugadores enemigos. Por lo tanto, un buen indicador de la habilidad de un jugador es qué tan frecuentemente logra tener más oro que su enemigo.\n",
    "\n",
    "La información sobre el oro obtenido por los jugadores se encuentra en el archivo **gold.csv**, el cual contiene los siguientes campos:\n",
    "\n",
    "* **Address**: Identificador único de la partida.\n",
    "* **Type**: Propietario del oro. En este ejercicio usaremos **gold{red,blue}ADC**.\n",
    "* **min_(k)**: Medición en el k-ésimo minuto. En este ejercicio usaremos los datos del minuto 15 (**min_15**)."
   ]
  },
  {
   "cell_type": "markdown",
   "metadata": {},
   "source": [
    "## Ejercicio 3\n",
    "\n",
    "### a) Obtener el oro obtenido por los jugadores en el rol *ADC* al minuto 15."
   ]
  },
  {
   "cell_type": "code",
   "execution_count": null,
   "metadata": {},
   "outputs": [],
   "source": []
  },
  {
   "cell_type": "markdown",
   "metadata": {},
   "source": [
    "### b) Crear una columna que determine si el jugador tiene más oro que el *ADC* enemigo."
   ]
  },
  {
   "cell_type": "code",
   "execution_count": null,
   "metadata": {},
   "outputs": [],
   "source": []
  },
  {
   "cell_type": "markdown",
   "metadata": {},
   "source": [
    "### c) Obtener la proporción de partidas en que el jugador tiene más oro que el enemigo, así como el número de partidas jugadas por *League*, *Year*, *Season* y *ADC*."
   ]
  },
  {
   "cell_type": "code",
   "execution_count": null,
   "metadata": {},
   "outputs": [],
   "source": []
  },
  {
   "cell_type": "markdown",
   "metadata": {},
   "source": [
    "### d) Filtrar aquellos jugadores con más de diez partidas jugadas y que tengan la máxima proporción del inciso anterior por *League*, *Year* y *Season*.\n",
    "\n",
    "El resultado debe ser similar a lo siguiente:  \n",
    "\n",
    "| League | Year | Season | ADC        | Proporción | Juegos | \n",
    "|--------|------|--------|------------|------------|--------|\n",
    "|EULCS   | 2015 | Spring | FORG1VENGRE| 0.833333   |   18   |"
   ]
  },
  {
   "cell_type": "code",
   "execution_count": null,
   "metadata": {},
   "outputs": [],
   "source": []
  },
  {
   "cell_type": "markdown",
   "metadata": {},
   "source": [
    "# Kills\n",
    "\n",
    "Matar personajes enemigos provee oro adicional y facilita la destrucción de estructuras enemigas. El asesino es el personaje que da el último golpe a la víctima y los asistentes son aquellos que contribuyeron en el asesinato, ya sea causando daño a la víctima o auxiliando al asesino. Puede no haber asistentes.\n",
    "\n",
    "Los datos de los asesinatos se encuentran en el archivo **kills.csv**, el cual contiene los siguientes campos:\n",
    "\n",
    "* **Address**: Identificador único de la partida.\n",
    "* **Team**: Identificador del equipo (rojo o azul).\n",
    "* **Time**: Minuto en que ocurrió el asesinato.\n",
    "* **Victim**: Personaje asesinado.\n",
    "* **Killer**: Personaje que dio el último golpe a la víctima.\n",
    "* **Assist_(k)**: k-ésimo asistente en el asesinato.\n",
    "* **x_pos**: Coordenada en el eje *x* en el mapa donde ocurrió el asesinato.\n",
    "* **y_pos**: Coordenada en el eje *y* en el mapa donde ocurrió el asesinato."
   ]
  },
  {
   "cell_type": "markdown",
   "metadata": {},
   "source": [
    "## Ejercicio 4.\n",
    "### Obtener el equipo con el mayor porcentaje de jugadores involucrados en los asesinatos por *Year*, *Region* y *Season*.\n",
    "\n",
    "Para cada asesinato calcular: \n",
    "\n",
    "**Porcentaje de jugadores involucrados = (1 + número de asistencias) / 5**\n",
    "\n",
    "Es decir: \n",
    "\n",
    "* Si el asesinato no tuvo asistentes, el porcentaje de jugadores involucrados es (1 + 0) / 5 = 20%. \n",
    "* Si el asesinato tuvo cuatro asistentes, el porcentaje de jugadores involucrados es (1 + 4) / 5 = 100%.\n",
    "\n",
    "Posteriormente obtener el promedio de estos porcentajes por *Year*, *Region*, *Season* y *TeamTag* y regresar el *TeamTag* que corresponda al máximo para cada *Year*, *Region* y *Season*.\n",
    "\n",
    "\n",
    "El resultado debe ser similar a lo siguiente:  \n",
    "\n",
    "| League | Year | Season | TeamTag    | Porcentaje participación |\n",
    "|--------|------|--------|------------|--------------------------|\n",
    "| EULCS  | 2015 | Spring | CW         |         0.710526         |"
   ]
  },
  {
   "cell_type": "code",
   "execution_count": null,
   "metadata": {},
   "outputs": [],
   "source": []
  },
  {
   "cell_type": "markdown",
   "metadata": {},
   "source": [
    "## Ejercicio 5.\n",
    "### Realizar gráficas que permitan visualizar las localizaciones (x_pos, y_pos) donde ocurrieron los asesinatos realizados por los equipos TSM, FNC y SKT. Hacer una gráfica para cada equipo y lado que ocuparon (blue o red), y colorear por año."
   ]
  },
  {
   "cell_type": "code",
   "execution_count": null,
   "metadata": {},
   "outputs": [],
   "source": []
  },
  {
   "cell_type": "markdown",
   "metadata": {},
   "source": [
    "# Monsters\n",
    "\n",
    "El juego tiene monstruos que brindan mejoras a los jugadores. Estos monstruos son fuertes y por lo general se matan en equipo cuando se cuenta con algún tipo de ventaja (hay jugadores muertos en el equipo enemigo o se encuentran lejos). Un indicador del dominio de un equipo en el juego es qué tan frecuentemente logran matar a uno de estos monstruos.\n",
    "\n",
    "Los datos de los monstruos asesinados se encuentran en el archivo **monsters.csv**, el cual contiene los siguientes campos:\n",
    "\n",
    "* **Address**: Identificador único de la partida\n",
    "* **Team**: Identificador del equipo (blue o red).\n",
    "* **Time**: Minuto en que se mató al monstruo.\n",
    "* **Type**: Tipo de monstruo. En este ejercicio nos enfocaremos en los dragones."
   ]
  },
  {
   "cell_type": "markdown",
   "metadata": {},
   "source": [
    "## Ejercicio 6.\n",
    "### Obtener el equipo con mayor número de dragones asesinados antes del minuto 30 por *Year*, *Season* y *League*.\n",
    "\n",
    "El resultado debe ser similar a lo siguiente:  \n",
    "\n",
    "| Year   | Season | League | TeamTag    | Dragones |\n",
    "|--------|------  |--------|------------|----------|\n",
    "| 2015   | Spring | EULCS  | SK         |    49    |"
   ]
  },
  {
   "cell_type": "code",
   "execution_count": null,
   "metadata": {},
   "outputs": [],
   "source": []
  },
  {
   "cell_type": "markdown",
   "metadata": {},
   "source": [
    "# Structures\n",
    "\n",
    "Las estructuras defienden las bases, la mayoría son torretas que atacan a los enemigos. Un indicador del ritmo de juego es que tan frecuentemente se destruyen torretas enemigas en etapas tempranas del juego.\n",
    "\n",
    "Los datos de las estructuras destruidas se encuentran en el archivo **structures.csv**, el cual contiene los siguientes campos:\n",
    "\n",
    "* **Address**: Identificador único de la partida\n",
    "* **Team**: Identificador del equipo (blue o red).\n",
    "* **Time**: Minuto en que se destruyó la estructura.\n",
    "* **Lane**: Carril en que se encontraba la estructura.\n",
    "* **Type**: Tipo de estructura."
   ]
  },
  {
   "cell_type": "markdown",
   "metadata": {},
   "source": [
    "## Ejercicio 7.\n",
    "### Obtener la proporción de partidas en que se destruyó la primera torre (*OUTER_TURRET*) del carril central (*MID_LANE*) antes del minuto 15 por *Year*, *Season* y *League*.\n",
    "\n",
    "El resultado debe ser similar a lo siguiente:  \n",
    "\n",
    "| Year   | Season | League | Proporción |\n",
    "|--------|------  |--------|------------|\n",
    "| 2015   | Spring | EULCS  | 0.250000   |"
   ]
  },
  {
   "cell_type": "code",
   "execution_count": null,
   "metadata": {},
   "outputs": [],
   "source": []
  }
 ],
 "metadata": {
  "kernelspec": {
   "display_name": "Python 3",
   "language": "python",
   "name": "python3"
  },
  "language_info": {
   "codemirror_mode": {
    "name": "ipython",
    "version": 3
   },
   "file_extension": ".py",
   "mimetype": "text/x-python",
   "name": "python",
   "nbconvert_exporter": "python",
   "pygments_lexer": "ipython3",
   "version": "3.7.4"
  }
 },
 "nbformat": 4,
 "nbformat_minor": 4
}
